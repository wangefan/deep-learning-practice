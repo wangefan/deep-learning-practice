{
  "nbformat": 4,
  "nbformat_minor": 0,
  "metadata": {
    "colab": {
      "name": "1970_Boston_house_price.ipynb",
      "provenance": [],
      "collapsed_sections": []
    },
    "kernelspec": {
      "name": "python3",
      "display_name": "Python 3"
    }
  },
  "cells": [
    {
      "cell_type": "markdown",
      "metadata": {
        "id": "tKZkRBegTS6P",
        "colab_type": "text"
      },
      "source": [
        "# 1. Load data from keras\n",
        "train_data = \n",
        "[ \n",
        "  \n",
        "　　[犯罪率, 高速公路可達性,... 等13個featurne]\n",
        "\n",
        "　　..\n",
        "　\n",
        "  \n",
        "　　404個\n",
        "\n",
        "]\n",
        "\n",
        "train_labels = \n",
        "[15.2, 17.8, ..] \n",
        "\n",
        "一人自住房屋的中位數，單位：千美元"
      ]
    },
    {
      "cell_type": "code",
      "metadata": {
        "id": "_efoY2atqYAg",
        "colab_type": "code",
        "colab": {
          "base_uri": "https://localhost:8080/",
          "height": 114
        },
        "outputId": "3d3e63bf-3f22-4c63-9cd4-5f5494230101"
      },
      "source": [
        "from keras.datasets import boston_housing\n",
        "(train_data, train_labels), (test_data, test_labels) = boston_housing.load_data()"
      ],
      "execution_count": 1,
      "outputs": [
        {
          "output_type": "stream",
          "text": [
            "Using TensorFlow backend.\n"
          ],
          "name": "stderr"
        },
        {
          "output_type": "display_data",
          "data": {
            "text/html": [
              "<p style=\"color: red;\">\n",
              "The default version of TensorFlow in Colab will soon switch to TensorFlow 2.x.<br>\n",
              "We recommend you <a href=\"https://www.tensorflow.org/guide/migrate\" target=\"_blank\">upgrade</a> now \n",
              "or ensure your notebook will continue to use TensorFlow 1.x via the <code>%tensorflow_version 1.x</code> magic:\n",
              "<a href=\"https://colab.research.google.com/notebooks/tensorflow_version.ipynb\" target=\"_blank\">more info</a>.</p>\n"
            ],
            "text/plain": [
              "<IPython.core.display.HTML object>"
            ]
          },
          "metadata": {
            "tags": []
          }
        },
        {
          "output_type": "stream",
          "text": [
            "Downloading data from https://s3.amazonaws.com/keras-datasets/boston_housing.npz\n",
            "57344/57026 [==============================] - 0s 2us/step\n"
          ],
          "name": "stdout"
        }
      ]
    },
    {
      "cell_type": "code",
      "metadata": {
        "id": "IN0OjdzsxRyR",
        "colab_type": "code",
        "outputId": "f8a6fcc6-b36f-40fe-dd45-a493e430ddf6",
        "colab": {
          "base_uri": "https://localhost:8080/",
          "height": 34
        }
      },
      "source": [
        "train_data.shape"
      ],
      "execution_count": 2,
      "outputs": [
        {
          "output_type": "execute_result",
          "data": {
            "text/plain": [
              "(404, 13)"
            ]
          },
          "metadata": {
            "tags": []
          },
          "execution_count": 2
        }
      ]
    },
    {
      "cell_type": "code",
      "metadata": {
        "id": "jKdqznTyxLcK",
        "colab_type": "code",
        "outputId": "d9c56158-becd-4e2b-8a26-8c43678da9b1",
        "colab": {
          "base_uri": "https://localhost:8080/",
          "height": 34
        }
      },
      "source": [
        "train_labels.shape"
      ],
      "execution_count": 3,
      "outputs": [
        {
          "output_type": "execute_result",
          "data": {
            "text/plain": [
              "(404,)"
            ]
          },
          "metadata": {
            "tags": []
          },
          "execution_count": 3
        }
      ]
    },
    {
      "cell_type": "markdown",
      "metadata": {
        "id": "YnqkG0lya-5p",
        "colab_type": "text"
      },
      "source": [
        "# 2.正規化，注意!!testing data必須使用training data計算的\n",
        "# mean 與 std計算，不能使用任何來自testing data的資訊，否則會資訊洩漏!"
      ]
    },
    {
      "cell_type": "code",
      "metadata": {
        "id": "cFkDOLm3az6x",
        "colab_type": "code",
        "outputId": "125e0a95-d395-46b0-bbde-6aa71a0be9a1",
        "colab": {
          "base_uri": "https://localhost:8080/",
          "height": 34
        }
      },
      "source": [
        "# 對axis=0軸計算平均，係指將每個feature都計算所有樣本數加總後的平均\n",
        "# 本例有13個feature，計算完之後的mean shape為(13,)\n",
        "mean = train_data.mean(axis=0)\n",
        "\n",
        "# (404, 13) - (13,), 這邊會array broadcasting變成(404, 13) - (404, 13) = (404, 13)\n",
        "train_data -= mean\n",
        "\n",
        "# std.shape = (13,)\n",
        "std = train_data.std(axis=0)\n",
        "\n",
        "# 同理，train_data.shape保持(404, 13)\n",
        "train_data /= std\n",
        "\n",
        "train_data.shape\n",
        "\n",
        "\n"
      ],
      "execution_count": 4,
      "outputs": [
        {
          "output_type": "execute_result",
          "data": {
            "text/plain": [
              "(404, 13)"
            ]
          },
          "metadata": {
            "tags": []
          },
          "execution_count": 4
        }
      ]
    },
    {
      "cell_type": "markdown",
      "metadata": {
        "id": "rb0TsZasnTjU",
        "colab_type": "text"
      },
      "source": [
        "# 3. define/build mode\n",
        "## 這邊的重點是使用mean squared error當作loss，且測量指標為mean absolute error當作驗證指標（預測值與目標值的絕對值差異）"
      ]
    },
    {
      "cell_type": "code",
      "metadata": {
        "id": "CAFORqzSJw19",
        "colab_type": "code",
        "colab": {}
      },
      "source": [
        "from keras import models\n",
        "from keras import layers\n",
        "\n",
        "def build_model():\n",
        "  model = models.Sequential()\n",
        "  model.add(layers.Dense(64,\n",
        "                         activation='relu',\n",
        "                         input_shape=(train_data.shape[1],)))\n",
        "  model.add(layers.Dense(64, activation='relu'))\n",
        "  model.add(layers.Dense(1))\n",
        "  model.compile(optimizer='rmsprop', loss='mse', metrics=['mae'])\n",
        "  return model\n",
        "\n"
      ],
      "execution_count": 0,
      "outputs": []
    },
    {
      "cell_type": "markdown",
      "metadata": {
        "id": "U_HGXJhs98h_",
        "colab_type": "text"
      },
      "source": [
        "# 4. K-fold驗證\n",
        "## 因為training data比較少，驗證時將training data分批，輪流當驗證集與訓練集，\n",
        "## 驗證值的變異性。"
      ]
    },
    {
      "cell_type": "code",
      "metadata": {
        "id": "keO5zIgV--QK",
        "colab_type": "code",
        "outputId": "d1daa267-a21e-4c4b-c1f8-d41b7b597434",
        "colab": {
          "base_uri": "https://localhost:8080/",
          "height": 785
        }
      },
      "source": [
        "\n",
        "import numpy as np\n",
        "\n",
        "k = 4 # 4折\n",
        "num_part = len(train_data) // k \n",
        "num_epochs=500\n",
        "\n",
        "all_mae_histories = []\n",
        "all_maes = []\n",
        "\n",
        "for idx in range(k):\n",
        "  print('processing fold #{}..'.format(idx))\n",
        "  # x\n",
        "  x_partial_pre = train_data[0 : idx * num_part]\n",
        "  x_partial_after = train_data[ (idx+1) * num_part:]\n",
        "  x_partial = np.concatenate([x_partial_pre, x_partial_after], axis=0)\n",
        "  x_val = train_data[idx * num_part: (idx+1) * num_part]\n",
        "  print('x_partial.shape = {}, x_val.shape = {}'.format(x_partial.shape, x_val.shape))\n",
        "\n",
        "  # y\n",
        "  y_partial_pre = train_labels[0 : idx*num_part]\n",
        "  y_partial_after = train_labels[ (idx+1) * num_part:]\n",
        "  y_partial = np.concatenate([y_partial_pre, y_partial_after], axis=0)\n",
        "  y_val = train_labels[idx * num_part: (idx+1) * num_part]\n",
        "  print('y_partial.shape = {}, y_val.shape = {}'.format(y_partial.shape, y_val.shape))\n",
        "\n",
        "  model = build_model()\n",
        "  history = model.fit(x_partial, y_partial,\n",
        "                      validation_data = (x_val, y_val),\n",
        "                      epochs=num_epochs,\n",
        "                      batch_size=1,\n",
        "                      verbose=0)\n",
        "  # 每個fold有epoch個mae element\n",
        "  mae_history = history.history['val_mean_absolute_error']\n",
        "  all_mae_histories.append(mae_history)\n",
        "\n",
        "  val_mse, val_mae = model.evaluate(x_val, y_val)\n",
        "  all_maes.append(val_mae)\n",
        "  \n",
        "all_maes"
      ],
      "execution_count": 6,
      "outputs": [
        {
          "output_type": "stream",
          "text": [
            "processing fold #0..\n",
            "x_partial.shape = (303, 13), x_val.shape = (101, 13)\n",
            "y_partial.shape = (303,), y_val.shape = (101,)\n",
            "WARNING:tensorflow:From /usr/local/lib/python3.6/dist-packages/keras/backend/tensorflow_backend.py:66: The name tf.get_default_graph is deprecated. Please use tf.compat.v1.get_default_graph instead.\n",
            "\n",
            "WARNING:tensorflow:From /usr/local/lib/python3.6/dist-packages/keras/backend/tensorflow_backend.py:541: The name tf.placeholder is deprecated. Please use tf.compat.v1.placeholder instead.\n",
            "\n",
            "WARNING:tensorflow:From /usr/local/lib/python3.6/dist-packages/keras/backend/tensorflow_backend.py:4432: The name tf.random_uniform is deprecated. Please use tf.random.uniform instead.\n",
            "\n",
            "WARNING:tensorflow:From /usr/local/lib/python3.6/dist-packages/keras/optimizers.py:793: The name tf.train.Optimizer is deprecated. Please use tf.compat.v1.train.Optimizer instead.\n",
            "\n",
            "WARNING:tensorflow:From /usr/local/lib/python3.6/dist-packages/keras/backend/tensorflow_backend.py:1033: The name tf.assign_add is deprecated. Please use tf.compat.v1.assign_add instead.\n",
            "\n",
            "WARNING:tensorflow:From /usr/local/lib/python3.6/dist-packages/keras/backend/tensorflow_backend.py:1020: The name tf.assign is deprecated. Please use tf.compat.v1.assign instead.\n",
            "\n",
            "WARNING:tensorflow:From /usr/local/lib/python3.6/dist-packages/keras/backend/tensorflow_backend.py:3005: The name tf.Session is deprecated. Please use tf.compat.v1.Session instead.\n",
            "\n",
            "WARNING:tensorflow:From /usr/local/lib/python3.6/dist-packages/keras/backend/tensorflow_backend.py:190: The name tf.get_default_session is deprecated. Please use tf.compat.v1.get_default_session instead.\n",
            "\n",
            "WARNING:tensorflow:From /usr/local/lib/python3.6/dist-packages/keras/backend/tensorflow_backend.py:197: The name tf.ConfigProto is deprecated. Please use tf.compat.v1.ConfigProto instead.\n",
            "\n",
            "WARNING:tensorflow:From /usr/local/lib/python3.6/dist-packages/keras/backend/tensorflow_backend.py:207: The name tf.global_variables is deprecated. Please use tf.compat.v1.global_variables instead.\n",
            "\n",
            "WARNING:tensorflow:From /usr/local/lib/python3.6/dist-packages/keras/backend/tensorflow_backend.py:216: The name tf.is_variable_initialized is deprecated. Please use tf.compat.v1.is_variable_initialized instead.\n",
            "\n",
            "WARNING:tensorflow:From /usr/local/lib/python3.6/dist-packages/keras/backend/tensorflow_backend.py:223: The name tf.variables_initializer is deprecated. Please use tf.compat.v1.variables_initializer instead.\n",
            "\n",
            "101/101 [==============================] - 0s 145us/step\n",
            "processing fold #1..\n",
            "x_partial.shape = (303, 13), x_val.shape = (101, 13)\n",
            "y_partial.shape = (303,), y_val.shape = (101,)\n",
            "101/101 [==============================] - 0s 78us/step\n",
            "processing fold #2..\n",
            "x_partial.shape = (303, 13), x_val.shape = (101, 13)\n",
            "y_partial.shape = (303,), y_val.shape = (101,)\n",
            "101/101 [==============================] - 0s 79us/step\n",
            "processing fold #3..\n",
            "x_partial.shape = (303, 13), x_val.shape = (101, 13)\n",
            "y_partial.shape = (303,), y_val.shape = (101,)\n",
            "101/101 [==============================] - 0s 86us/step\n"
          ],
          "name": "stdout"
        },
        {
          "output_type": "execute_result",
          "data": {
            "text/plain": [
              "[2.5160077349974377,\n",
              " 2.6501370798243156,\n",
              " 2.8487457662525744,\n",
              " 2.4040863089042133]"
            ]
          },
          "metadata": {
            "tags": []
          },
          "execution_count": 6
        }
      ]
    },
    {
      "cell_type": "markdown",
      "metadata": {
        "id": "NEi8oxkuCmTU",
        "colab_type": "text"
      },
      "source": [
        "# 6. 畫圖看狀況"
      ]
    },
    {
      "cell_type": "code",
      "metadata": {
        "id": "MOki9EUoCqre",
        "colab_type": "code",
        "outputId": "928eddeb-69f1-46fc-867c-ce74d5ae8ff6",
        "colab": {
          "base_uri": "https://localhost:8080/",
          "height": 312
        }
      },
      "source": [
        "import matplotlib.pyplot as plt\n",
        "\n",
        "# y軸資料\n",
        "mae_histories_mean = [\n",
        "                      np.mean([ mae_history[i_epoch] for mae_history in all_mae_histories]) for i_epoch in range(num_epochs)]\n",
        "print('mae_histories_mean len = {}'.format(len(mae_histories_mean)))\n",
        "\n",
        "# x 軸資料 為epochs\n",
        "epochs = range(1, num_epochs+1)\n",
        "\n",
        "plt.plot(epochs, mae_histories_mean, 'b', label = 'avarage mae')\n",
        "plt.title('validation MAE')\n",
        "plt.xlabel('epochs')\n",
        "plt.ylabel('validation MAE')\n",
        "plt.legend()\n",
        "\n",
        "plt.show()\n"
      ],
      "execution_count": 7,
      "outputs": [
        {
          "output_type": "stream",
          "text": [
            "mae_histories_mean len = 500\n"
          ],
          "name": "stdout"
        },
        {
          "output_type": "display_data",
          "data": {
            "image/png": "[encoded data removed]",
            "text/plain": [
              "<Figure size 432x288 with 1 Axes>"
            ]
          },
          "metadata": {
            "tags": []
          }
        }
      ]
    },
    {
      "cell_type": "markdown",
      "metadata": {
        "id": "36wO9iLL2nYB",
        "colab_type": "text"
      },
      "source": [
        "# 7. 使用EMA (exponential moving average) 平滑處理\n",
        "# 上面劇烈震盪的曲線"
      ]
    },
    {
      "cell_type": "code",
      "metadata": {
        "id": "lATpUv2z29AD",
        "colab_type": "code",
        "colab": {
          "base_uri": "https://localhost:8080/",
          "height": 332
        },
        "outputId": "fef30433-ad92-45bc-f4eb-ed972691fc1a"
      },
      "source": [
        "def ema(points, factor):\n",
        "  smooth_points = []\n",
        "  for point in points:\n",
        "    if smooth_points:\n",
        "      previous = smooth_points[-1]\n",
        "      smooth_points.append(previous*factor + (1. - factor) * point)\n",
        "    else:\n",
        "      smooth_points.append(point)\n",
        "  print('len smooth_points = {}'.format(smooth_points))\n",
        "  return smooth_points\n",
        "\n",
        "# 畫圖\n",
        "epochs = range(1, num_epochs+1)\n",
        "smooth_mae = ema(mae_histories_mean, 0.9)\n",
        "\n",
        "plt.plot(epochs, smooth_mae, 'b', label = 'smooth average mae')\n",
        "plt.title('validation MAE')\n",
        "plt.xlabel('epochs')\n",
        "plt.ylabel('validation MAE')\n",
        "plt.legend()\n",
        "\n",
        "plt.show()"
      ],
      "execution_count": 34,
      "outputs": [
        {
          "output_type": "stream",
          "text": [
            "len smooth_points = [4.592369157488983, 4.48616155279745, 4.358612126194604, 4.2141292977545515, 4.067949100629173, 3.9409113597798813, 3.8091996694538635, 3.6952140629984638, 3.5881841065598605, 3.4958021717143124, 3.404397846121669, 3.316307146774369, 3.2470036088425074, 3.1659535525212315, 3.1065304814189956, 3.051702833157458, 2.994974065778422, 2.949414462601205, 2.9059839543103676, 2.8671062682551467, 2.820493173725577, 2.79492823314706, 2.7716561653150182, 2.753940641311642, 2.7258347908064704, 2.6981264789918002, 2.6862764262107746, 2.667303207426132, 2.659740155998388, 2.6409819032214843, 2.6222068270112078, 2.597932833438963, 2.575111113372925, 2.5586145847215374, 2.5332255925104636, 2.531481647286611, 2.5222372979501704, 2.5162171011766836, 2.500592414735897, 2.493246138722414, 2.4939667121346236, 2.4860294359568202, 2.476888935514595, 2.4671460787457304, 2.461503185730355, 2.4582345387842888, 2.4574792260452396, 2.466987987314374, 2.453210057735081, 2.4430139093164454, 2.4492650925094677, 2.4493193797514468, 2.440224421788686, 2.4407344789467778, 2.4256274661634953, 2.4211807028633596, 2.4188689813115865, 2.4179106187126713, 2.413156551619688, 2.4310170306946874, 2.425270623127532, 2.4170581985418553, 2.408374230737167, 2.4006710698239497, 2.3934963917259666, 2.38849810833502, 2.4013069831101834, 2.398094876425965, 2.3981050340748764, 2.395513810730905, 2.393943346842474, 2.407336378048012, 2.407225776476716, 2.412349836705952, 2.4053087577184984, 2.399923819989015, 2.422602254633517, 2.4384840937557093, 2.4449821449349978, 2.4372318392697805, 2.442253574855334, 2.433619612672375, 2.425813585366911, 2.4295333180196517, 2.4284877936056146, 2.4337542198917945, 2.437339027587426, 2.432198440670811, 2.4352073249217083, 2.4266668976621615, 2.426014836721747, 2.4311692312100677, 2.433108922280286, 2.4376103916986644, 2.436334592837163, 2.4412612354685606, 2.4313559896540853, 2.4284769203220384, 2.438153030466395, 2.4314942338778867, 2.4513406712083623, 2.4733142853241707, 2.48714237606757, 2.498063652776805, 2.4984850308273323, 2.4954290795311915, 2.489187674835068, 2.482893844659278, 2.480010098293247, 2.482080533069759, 2.486951184186027, 2.500899092010766, 2.505118841294573, 2.504036540478557, 2.507579770746494, 2.514338268324843, 2.5160903613342764, 2.515503762032106, 2.5094555541821366, 2.5028888667158733, 2.5142398337955916, 2.505093932361886, 2.491506880415784, 2.497200711427561, 2.51204945483156, 2.5200973788411147, 2.5178862196300735, 2.5114798793623283, 2.516232517443411, 2.5205839706114634, 2.518594125147346, 2.5086905729310702, 2.4972899227967678, 2.4913953911249407, 2.482317094640072, 2.47336857143236, 2.474680416561218, 2.480215628818258, 2.498170595836823, 2.505567735687553, 2.5058518217207912, 2.514163392770167, 2.5100128767818695, 2.5086484484545477, 2.517147723695914, 2.5159200043665533, 2.5179374999898823, 2.525400179828376, 2.5316658965318704, 2.5324662815006356, 2.5430582549350538, 2.540728555224808, 2.54073638476077, 2.550675274694745, 2.5638666444920366, 2.560899035249774, 2.5468648057253382, 2.546679210327811, 2.540128443600554, 2.5476807640048276, 2.5558578057672365, 2.55462879601283, 2.5704893222816634, 2.5716088658702425, 2.5654159044210307, 2.5673890378983333, 2.5618789440553345, 2.55900870897592, 2.5792135726957315, 2.5736343191576725, 2.5837639734099866, 2.6009339128331446, 2.596014196218246, 2.6014943883147033, 2.6114359658230164, 2.623936855280887, 2.619283010628556, 2.620435506312625, 2.6174794676079562, 2.6143127515111777, 2.6070910379912906, 2.5923240705128987, 2.6057325649705065, 2.608976382394622, 2.623697273947039, 2.6371960654241717, 2.630471460759643, 2.6216668844229547, 2.61552841181861, 2.622711791813312, 2.6129802079148847, 2.607832235327384, 2.6156602560765654, 2.603992284809007, 2.6122313005698774, 2.6230920092542678, 2.618657640033651, 2.628213633459239, 2.6211480405558247, 2.6180884646627622, 2.6174712385274854, 2.6240637999590017, 2.624346746150273, 2.6239551843467215, 2.6174151805375607, 2.6181736902206194, 2.6223971466882814, 2.664100071304248, 2.6485674104345365, 2.647052332298447, 2.656847802172074, 2.656888717923721, 2.650096476012499, 2.650690070001239, 2.645827742189494, 2.6404096210546104, 2.6395262113708324, 2.6452269747540247, 2.6351690749689856, 2.637519687322865, 2.645182239897627, 2.6391324008158414, 2.634657179603903, 2.631909179607383, 2.6351860654223187, 2.627970176178651, 2.62076622000793, 2.636141326247235, 2.645777747254058, 2.6524319837052244, 2.6528068504228037, 2.6472276114038413, 2.6566338290588014, 2.6504491840831816, 2.6580294787691408, 2.659714045265326, 2.6578079560845196, 2.655552174234472, 2.6487046023169865, 2.6613129596331895, 2.65768182654989, 2.672531788628972, 2.659432745097144, 2.645781163661118, 2.6501584195246672, 2.647711859650707, 2.6437093788789956, 2.633353568376113, 2.6395525033818785, 2.647301660537358, 2.654153019625272, 2.656136236517774, 2.6564034695216083, 2.6483866399646936, 2.6570619401113538, 2.6569697540594897, 2.6625321013865224, 2.6711458843682716, 2.6766217136045363, 2.683202066825463, 2.686910687692124, 2.6961220896437883, 2.6882040219870893, 2.696187143975676, 2.7052880537764175, 2.701222786016261, 2.7030456656224056, 2.7111953893463143, 2.70876187090401, 2.7096116988762247, 2.7105170013933844, 2.7121453063606413, 2.705399692178515, 2.6977271069883897, 2.6971764790035935, 2.701798095203375, 2.703391263540344, 2.6996242906365486, 2.699545119608761, 2.687104363266821, 2.6889063845894454, 2.688539824461872, 2.6907747563675732, 2.699376700484391, 2.702083079660239, 2.7014286484435743, 2.6874021270880046, 2.688312833273679, 2.6882468253774627, 2.6897864705537113, 2.689451420945386, 2.6903641595895498, 2.6803843068191284, 2.6837263800112297, 2.695378764346859, 2.6990945995276316, 2.6895610947741195, 2.7061806717656443, 2.7110140794398, 2.7091184793091436, 2.7127960708080883, 2.735165206530532, 2.73662870167939, 2.7294261930865873, 2.732235278404673, 2.7237008472841175, 2.71942505327488, 2.708389233526333, 2.707964541138851, 2.7045573659797646, 2.7063249560931597, 2.70668292484071, 2.6988769455044577, 2.706181384914169, 2.6936325395204466, 2.682475274660105, 2.698699490371754, 2.7035095230525474, 2.7035328834785917, 2.6971874114690357, 2.696602958817262, 2.695504471479166, 2.6933240234850286, 2.701609624146095, 2.6987535940944483, 2.6944865277981456, 2.687971021381769, 2.696317535022902, 2.6939242718188545, 2.6870285791286386, 2.687329682089596, 2.6791005137251327, 2.6828895001169517, 2.6825414279110986, 2.684607947061366, 2.6823709707140377, 2.694820712788823, 2.699204004423242, 2.698794754822584, 2.7085716157894857, 2.7225771493285253, 2.7177855938999116, 2.717240452592167, 2.7148507679655163, 2.7149441226525073, 2.712928556337657, 2.715476969295253, 2.7169145848559078, 2.7254926783556517, 2.7315734842279693, 2.7281363127002387, 2.725551327963539, 2.731719545186923, 2.730971992055361, 2.73576055939851, 2.7402176647400185, 2.7341641317711147, 2.7397810063930077, 2.743301607529135, 2.743387470682136, 2.7422862704497177, 2.734975769832047, 2.7367907413115495, 2.7339450036611677, 2.7324665425683414, 2.7231285450644434, 2.7296418873890507, 2.7307948772602013, 2.728258330533203, 2.7243836733064937, 2.726475748728305, 2.736161767058764, 2.7351078087734644, 2.72959445068098, 2.7286591107037883, 2.7277369783182337, 2.7307468014823906, 2.728465738932053, 2.742030218276196, 2.7334135798385306, 2.732589341158466, 2.732941604124742, 2.7298034821098773, 2.7207278798789543, 2.708836769822665, 2.707557200843505, 2.696776633317774, 2.708826244087556, 2.7066243970869093, 2.7062860999947924, 2.7011942483284628, 2.6997662461752534, 2.690051199928757, 2.6953220592470406, 2.693825714139368, 2.6957949645493064, 2.70133851828363, 2.709555471039128, 2.7167006696839806, 2.7091175733139736, 2.712187406418813, 2.703317059887583, 2.692039249749998, 2.692283253737139, 2.706715616386001, 2.705043119306204, 2.696876778227255, 2.7068060503404805, 2.716353423583167, 2.7108012739321388, 2.7035558083154014, 2.7037180159129326, 2.69996501897001, 2.6874299497282683, 2.689971058739141, 2.687314277649496, 2.686805925349947, 2.6821501357688424, 2.677646959686686, 2.6701864677901197, 2.675027277536098, 2.669604595992447, 2.6633988804083204, 2.668803754212161, 2.6642503184162605, 2.6622258735621203, 2.660461811858841, 2.667712443882415, 2.6751856734425106, 2.6747413433457643, 2.681002339080467, 2.683228416217774, 2.687226827371661, 2.6828066684079905, 2.6849888911677, 2.683216459651476, 2.681048999774588, 2.677167372054641, 2.674188237710978, 2.6823173448037045, 2.6918782264971064, 2.6963453107859676, 2.7002109789544857, 2.7084239154226233, 2.699906640075662, 2.6927449697473693, 2.6860299403857395, 2.683729096776051, 2.6896727630741473, 2.685092713579643, 2.6902030072647976, 2.6886194780019577, 2.6921529282048016, 2.6801617687294814, 2.681689595007964, 2.683049256293174, 2.6698444199164415, 2.6715429557475447, 2.6690700485367698, 2.6840240163141886, 2.6843403772457766, 2.678583548261131, 2.6867612852772917, 2.6860906319448903, 2.6712144570476806, 2.6641511220002174, 2.656208356587601, 2.666472613314766, 2.669719180578328, 2.6685380445188933, 2.6545097483263147, 2.6643243036880695, 2.6692951258075786, 2.6660333297110794, 2.6612261344600228, 2.662482838085199, 2.661679378641785, 2.6581098953757594, 2.661519936323695, 2.6515080811805105, 2.642472626760057, 2.6494308326631453, 2.6540195963875104, 2.659711800440403, 2.6537171240329402, 2.655108515818206, 2.6544094955360067, 2.6562567943561364, 2.647259920260449, 2.6463782478517985, 2.6451228305288614, 2.644176756778066, 2.635950033434333, 2.637454774132267, 2.630918429522589, 2.6369741926315666, 2.6425724914245503, 2.6485825490961945, 2.6442465020699, 2.6402962744074463]\n"
          ],
          "name": "stdout"
        },
        {
          "output_type": "display_data",
          "data": {
            "image/png": "[encoded data removed]",
            "text/plain": [
              "<Figure size 432x288 with 1 Axes>"
            ]
          },
          "metadata": {
            "tags": []
          }
        }
      ]
    }
  ]
}